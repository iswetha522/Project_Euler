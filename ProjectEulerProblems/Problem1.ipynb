{
 "cells": [
  {
   "cell_type": "code",
   "execution_count": 3,
   "metadata": {},
   "outputs": [
    {
     "name": "stdout",
     "output_type": "stream",
     "text": [
      "Enter maximum number10\n",
      "23\n"
     ]
    }
   ],
   "source": [
    "max = int(input(\"Enter maximum number\"))\n",
    "index = 1\n",
    "num1 = 3\n",
    "num2 = 5\n",
    "result = 0\n",
    "while(index < max):\n",
    "    if (index % num1 == 0 or index % num2 == 0):\n",
    "        result = result + index\n",
    "    index = index + 1\n",
    "print(result)\n"
   ]
  },
  {
   "cell_type": "code",
   "execution_count": null,
   "metadata": {},
   "outputs": [],
   "source": []
  }
 ],
 "metadata": {
  "kernelspec": {
   "display_name": "Python 3",
   "language": "python",
   "name": "python3"
  },
  "language_info": {
   "codemirror_mode": {
    "name": "ipython",
    "version": 3
   },
   "file_extension": ".py",
   "mimetype": "text/x-python",
   "name": "python",
   "nbconvert_exporter": "python",
   "pygments_lexer": "ipython3",
   "version": "3.7.4"
  }
 },
 "nbformat": 4,
 "nbformat_minor": 2
}
